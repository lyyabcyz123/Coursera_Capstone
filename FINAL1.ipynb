{
 "cells": [
  {
   "cell_type": "markdown",
   "metadata": {
    "collapsed": true
   },
   "source": [
    "## Introduction\n",
    "#1.1 Background \n",
    "New York City is a very diverse city in the United States and has a very high population. In this crowd city, some boroughs/neighborhoods have high crime rates while some are considered relatively very safe. In addition, within 5 borough and more than 30 neighborhood in New York City, restaurant and coffee shop are the top 2 venues. Each year thousands of people looking to open new restaurant in this city. As we all aware, crime rate will affect restaurant business in a negative way so does high concentration of similar restaurants. Therefore, it is advantageous for people to know the crime rate and existing venue while picking locations to open restaurant. \n",
    "#1.2 Problem\n",
    "Data that might contribute to determining future restaurant profit include location, neighborhood crime rate, nearby existing restaurant type, etc. This project will be finding the best neighborhood in New York City to open a restaurant.\n",
    "#1.3 Interest \n",
    "Obviously, people who want to open a new restaurant in New York City would be interested in."
   ]
  },
  {
   "cell_type": "markdown",
   "metadata": {},
   "source": [
    "## Data\n",
    "#2.1 Data sources \n",
    "In this project, there is two data source. First, New York City crime data provided by NYC OpenData(https://data.cityofnewyork.us/Public-Safety/NYPD-Complaint-Data-Historic/qgea-i56i) named NYPD Complaint Data Historic. This dataset includes all valid felony, misdemeanor, and violation crimes reported to the New York City Police Department (NYPD) from 2006 to the end of last year (2017). In total, this dataset contains 35 columns and 7.31M rows each row represents a individual complain. The second data source is the Foursquare API. The Foursquare API is used to explore neighborhoods in New York City. \n",
    "#2.2 Data cleaning \n",
    "Due to file size, NYPD crime data is per-cleaned before imported to the notebook, only data from 2016-2017 is included and 7relavent columns are kept. No change in the Foursquare API is made."
   ]
  },
  {
   "cell_type": "markdown",
   "metadata": {},
   "source": []
  }
 ],
 "metadata": {
  "kernelspec": {
   "display_name": "Python 3.6",
   "language": "python",
   "name": "python3"
  },
  "language_info": {
   "codemirror_mode": {
    "name": "ipython",
    "version": 3
   },
   "file_extension": ".py",
   "mimetype": "text/x-python",
   "name": "python",
   "nbconvert_exporter": "python",
   "pygments_lexer": "ipython3",
   "version": "3.6.9"
  }
 },
 "nbformat": 4,
 "nbformat_minor": 1
}
