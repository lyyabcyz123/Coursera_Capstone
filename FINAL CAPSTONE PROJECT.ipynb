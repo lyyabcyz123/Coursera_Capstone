{
 "cells": [
  {
   "cell_type": "markdown",
   "metadata": {
    "collapsed": true
   },
   "source": [
    "## Introduction\n",
    "#1.1 Background \n",
    "New York City is a very diverse city in the United States and has a very high population. In this crowd city, some boroughs/neighborhoods have high crime rates while some are considered relatively very safe. In addition, within 5 borough and more than 30 neighborhood in New York City, restaurant and coffee shop are the top 2 venues. Each year thousands of people looking to open new restaurant in this city. As we all aware, crime rate will affect restaurant business in a negative way so does high concentration of similar restaurants. Therefore, it is advantageous for people to know the crime rate and existing venue while picking locations to open restaurant. \n",
    "#1.2 Problem\n",
    "Data that might contribute to determining future restaurant profit include location, neighborhood crime rate, nearby existing restaurant type, etc. This project will be finding the best neighborhood in New York City to open a restaurant.\n",
    "#1.3 Interest \n",
    "Obviously, people who want to open a new restaurant in New York City would be interested in.\n",
    "\n",
    "## Data\n",
    "#2.1 Data sources \n",
    "In this project, there is two data source. First, New York City crime data provided by NYC OpenData(https://data.cityofnewyork.us/Public-Safety/NYPD-Complaint-Data-Historic/qgea-i56i) named NYPD Complaint Data Historic. This dataset includes all valid felony, misdemeanor, and violation crimes reported to the New York City Police Department (NYPD) from 2006 to the end of last year (2017). In total, this dataset contains 35 columns and 7.31M rows each row represents a individual complain. The second data source is the Foursquare API. The Foursquare API is used to explore neighborhoods in New York City. \n",
    "#2.2 Data cleaning \n",
    "Due to file size, NYPD crime data is per-cleaned before imported to the notebook, only data from 2016-2017 is included and 7relavent columns are kept. No change in the Foursquare API is made."
   ]
  },
  {
   "cell_type": "markdown",
   "metadata": {},
   "source": [
    "## Table of Contents\n",
    "\n",
    "<div class=\"alert alert-block alert-info\" style=\"margin-top: 20px\">\n",
    "\n",
    "<font size = 3>\n",
    "\n",
    "Part1 Explore Neighborhoods in New York City\n",
    "    \n",
    "1. <a href=\"#item1\">Download and Explore Dataset</a>\n",
    "\n",
    "2. <a href=\"#item2\">Explore Neighborhoods in New York City</a>\n",
    "\n",
    "3. <a href=\"#item3\">Analyze Each Neighborhood</a>\n",
    "\n",
    "4. <a href=\"#item4\">Cluster Neighborhoods</a>\n",
    "\n",
    "5. <a href=\"#item5\">Examine Clusters</a>    \n",
    " \n",
    "Part2 Explore New York City Crime\n",
    "    \n",
    "1. <a href=\"#item6\">Download and Explore Dataset</a>\n",
    "\n",
    "2. <a href=\"#item7\">Explore Neighborhoods in New York City</a>\n",
    "\n",
    "3. <a href=\"#item8\">Analyze Each Neighborhood</a>\n",
    "\n",
    "4. <a href=\"#item9\">Cluster Neighborhoods</a>\n",
    "\n",
    "5. <a href=\"#item10\">Examine Clusters</a>    \n",
    "    \n",
    "</font>\n",
    "</div>"
   ]
  },
  {
   "cell_type": "code",
   "execution_count": 1,
   "metadata": {},
   "outputs": [
    {
     "name": "stdout",
     "output_type": "stream",
     "text": [
      "Libraries imported.\n"
     ]
    }
   ],
   "source": [
    "import numpy as np # library to handle data in a vectorized manner\n",
    "import pandas as pd # library for data analsysis\n",
    "pd.set_option('display.max_columns', None)\n",
    "pd.set_option('display.max_rows', None)\n",
    "import json # library to handle JSON files\n",
    "import requests # library to handle requests\n",
    "from pandas.io.json import json_normalize # tranform JSON file into a pandas dataframe\n",
    "# Matplotlib and associated plotting modules\n",
    "import matplotlib.cm as cm\n",
    "import matplotlib.colors as colors\n",
    "# import k-means from clustering stage\n",
    "from sklearn.cluster import KMeans\n",
    "print('Libraries imported.')"
   ]
  },
  {
   "cell_type": "code",
   "execution_count": null,
   "metadata": {},
   "outputs": [
    {
     "name": "stdout",
     "output_type": "stream",
     "text": [
      "Solving environment: \\ "
     ]
    }
   ],
   "source": [
    "#!conda install -c conda-forge folium=0.5.0 --yes # uncomment this line if you haven't completed the Foursquare API lab\n",
    "import folium # map rendering library\n",
    "!conda install -c conda-forge geopy --yes # uncomment this line if you haven't completed the Foursquare API lab\n",
    "from geopy.geocoders import Nominatim # convert an address into latitude and longitude values\n",
    "print('Libraries imported.')"
   ]
  },
  {
   "cell_type": "markdown",
   "metadata": {},
   "source": [
    "## 1. Download and Explore Dataset\n"
   ]
  },
  {
   "cell_type": "code",
   "execution_count": null,
   "metadata": {
    "scrolled": true
   },
   "outputs": [],
   "source": [
    "!wget -q -O 'newyork_data.json' https://cocl.us/new_york_dataset\n",
    "print('Data downloaded!')\n",
    "with open('newyork_data.json') as json_data:\n",
    "    newyork_data = json.load(json_data)\n",
    "neighborhoods_data = newyork_data['features']\n",
    "# define the dataframe columns\n",
    "column_names = ['Borough', 'Neighborhood', 'Latitude', 'Longitude'] \n",
    "\n",
    "# instantiate the dataframe\n",
    "neighborhoods = pd.DataFrame(columns=column_names)\n",
    "for data in neighborhoods_data:\n",
    "    borough = neighborhood_name = data['properties']['borough'] \n",
    "    neighborhood_name = data['properties']['name']\n",
    "        \n",
    "    neighborhood_latlon = data['geometry']['coordinates']\n",
    "    neighborhood_lat = neighborhood_latlon[1]\n",
    "    neighborhood_lon = neighborhood_latlon[0]\n",
    "    \n",
    "    neighborhoods = neighborhoods.append({'Borough': borough,\n",
    "                                          'Neighborhood': neighborhood_name,\n",
    "                                          'Latitude': neighborhood_lat,\n",
    "                                          'Longitude': neighborhood_lon}, ignore_index=True)\n",
    "neighborhoods.head()\n",
    "print('The dataframe has {} boroughs and {} neighborhoods.'.format(\n",
    "        len(neighborhoods['Borough'].unique()),\n",
    "        neighborhoods.shape[0]\n",
    "    )\n",
    ")"
   ]
  },
  {
   "cell_type": "markdown",
   "metadata": {},
   "source": [
    "#### Use geopy library to get the latitude and longitude values of New York City."
   ]
  },
  {
   "cell_type": "code",
   "execution_count": null,
   "metadata": {},
   "outputs": [],
   "source": [
    "address = 'New York City, NY'\n",
    "\n",
    "geolocator = Nominatim(user_agent=\"ny_explorer\")\n",
    "location = geolocator.geocode(address)\n",
    "latitude = location.latitude\n",
    "longitude = location.longitude\n",
    "print('The geograpical coordinate of New York City are {}, {}.'.format(latitude, longitude))"
   ]
  },
  {
   "cell_type": "markdown",
   "metadata": {},
   "source": [
    "#### Create a map of New York with neighborhoods superimposed on top."
   ]
  },
  {
   "cell_type": "code",
   "execution_count": null,
   "metadata": {
    "scrolled": true
   },
   "outputs": [],
   "source": [
    "# create map of New York using latitude and longitude values\n",
    "map_newyork = folium.Map(location=[latitude, longitude], zoom_start=10)\n",
    "\n",
    "# add markers to map\n",
    "for lat, lng, borough, neighborhood in zip(neighborhoods['Latitude'], neighborhoods['Longitude'], neighborhoods['Borough'], neighborhoods['Neighborhood']):\n",
    "    label = '{}, {}'.format(neighborhood, borough)\n",
    "    label = folium.Popup(label, parse_html=True)\n",
    "    folium.CircleMarker(\n",
    "        [lat, lng],\n",
    "        radius=5,\n",
    "        popup=label,\n",
    "        color='blue',\n",
    "        fill=True,\n",
    "        fill_color='#3186cc',\n",
    "        fill_opacity=0.7,\n",
    "        parse_html=False).add_to(map_newyork)  \n",
    "    \n",
    "map_newyork"
   ]
  },
  {
   "cell_type": "code",
   "execution_count": null,
   "metadata": {},
   "outputs": [],
   "source": [
    "\n",
    "sl_data = neighborhoods[neighborhoods['Borough'] == 'Staten Island'].reset_index(drop=True)\n",
    "sl_data.head()\n",
    "address = 'STATEN ISLAND, NY'\n",
    "\n",
    "geolocator = Nominatim(user_agent=\"ny_explorer\")\n",
    "location = geolocator.geocode(address)\n",
    "latitude = location.latitude\n",
    "longitude = location.longitude\n",
    "print('The geograpical coordinate of STATEN ISLAND are {}, {}.'.format(latitude, longitude))"
   ]
  },
  {
   "cell_type": "code",
   "execution_count": null,
   "metadata": {},
   "outputs": [],
   "source": []
  },
  {
   "cell_type": "markdown",
   "metadata": {},
   "source": [
    "####As we did with all of New York City, let's visualizat Staten Island the neighborhoods in it."
   ]
  },
  {
   "cell_type": "code",
   "execution_count": null,
   "metadata": {},
   "outputs": [],
   "source": [
    "# create map of STATEN ISLAND using latitude and longitude values\n",
    "map_sl = folium.Map(location=[latitude, longitude], zoom_start=11)\n",
    "\n",
    "# add markers to map\n",
    "for lat, lng, label in zip(sl_data['Latitude'], sl_data['Longitude'], sl_data['Neighborhood']):\n",
    "    label = folium.Popup(label, parse_html=True)\n",
    "    folium.CircleMarker(\n",
    "        [lat, lng],\n",
    "        radius=5,\n",
    "        popup=label,\n",
    "        color='blue',\n",
    "        fill=True,\n",
    "        fill_color='#3186cc',\n",
    "        fill_opacity=0.7,\n",
    "        parse_html=False).add_to(map_sl)  \n",
    "    \n",
    "map_sl"
   ]
  },
  {
   "cell_type": "markdown",
   "metadata": {},
   "source": [
    "##Foursquare API"
   ]
  },
  {
   "cell_type": "code",
   "execution_count": null,
   "metadata": {},
   "outputs": [],
   "source": [
    "CLIENT_ID = '2ABDNZN3FAKGEPTSPADC5IADNA01WNVNDPSZWCWDB2ZKRFUQ' # your Foursquare ID\n",
    "CLIENT_SECRET = 'SCYPFJ2QGW54BDUEGEEAD5SDUM3HO3G4I3H15QB4RUMYZKYP' # your Foursquare Secret\n",
    "VERSION = '20180605' # Foursquare API version\n",
    "\n",
    "print('Your credentails:')\n",
    "print('CLIENT_ID: ' + CLIENT_ID)\n",
    "print('CLIENT_SECRET:' + CLIENT_SECRET)"
   ]
  },
  {
   "cell_type": "code",
   "execution_count": null,
   "metadata": {},
   "outputs": [],
   "source": [
    "# function that extracts the category of the venue\n",
    "def get_category_type(row):\n",
    "    try:\n",
    "        categories_list = row['categories']\n",
    "    except:\n",
    "        categories_list = row['venue.categories']\n",
    "        \n",
    "    if len(categories_list) == 0:\n",
    "        return None\n",
    "    else:\n",
    "        return categories_list[0]['name']"
   ]
  },
  {
   "cell_type": "markdown",
   "metadata": {},
   "source": [
    "## 2. Explore Neighborhoods in Staten Island\n"
   ]
  },
  {
   "cell_type": "code",
   "execution_count": null,
   "metadata": {},
   "outputs": [],
   "source": [
    "def getNearbyVenues(names, latitudes, longitudes, radius=500):\n",
    "    \n",
    "    venues_list=[]\n",
    "    for name, lat, lng in zip(names, latitudes, longitudes):\n",
    "        # create the API request URL\n",
    "        url = 'https://api.foursquare.com/v2/venues/explore?&client_id={}&client_secret={}&v={}&ll={},{}&radius={}&limit={}'.format(\n",
    "            CLIENT_ID, \n",
    "            CLIENT_SECRET, \n",
    "            VERSION, \n",
    "            lat, \n",
    "            lng, \n",
    "            radius, \n",
    "            LIMIT)      \n",
    "        # make the GET request\n",
    "        results = requests.get(url).json()[\"response\"]['groups'][0]['items']\n",
    "        \n",
    "        # return only relevant information for each nearby venue\n",
    "        venues_list.append([(\n",
    "            name, \n",
    "            lat, \n",
    "            lng, \n",
    "            v['venue']['name'], \n",
    "            v['venue']['location']['lat'], \n",
    "            v['venue']['location']['lng'],  \n",
    "            v['venue']['categories'][0]['name']) for v in results])\n",
    "\n",
    "    nearby_venues = pd.DataFrame([item for venue_list in venues_list for item in venue_list])\n",
    "    nearby_venues.columns = ['Neighborhood', \n",
    "                  'Neighborhood Latitude', \n",
    "                  'Neighborhood Longitude', \n",
    "                  'Venue', \n",
    "                  'Venue Latitude', \n",
    "                  'Venue Longitude', \n",
    "                  'Venue Category']\n",
    "    \n",
    "    return(nearby_venues)\n",
    "\n",
    "sl_venues = getNearbyVenues(names=sl_data['Neighborhood'],\n",
    "                                   latitudes=sl_data['Latitude'],\n",
    "                                   longitudes=sl_data['Longitude']\n",
    "                                  )\n",
    "print(sl_venues.shape)\n",
    "sl_venues.head()"
   ]
  },
  {
   "cell_type": "markdown",
   "metadata": {},
   "source": [
    "## 3. Analyze Each Neighborhood"
   ]
  },
  {
   "cell_type": "code",
   "execution_count": null,
   "metadata": {
    "scrolled": true
   },
   "outputs": [],
   "source": [
    "# one hot encoding\n",
    "sl_onehot = pd.get_dummies(sl_venues[['Venue Category']], prefix=\"\", prefix_sep=\"\")\n",
    "\n",
    "# add neighborhood column back to dataframe\n",
    "sl_onehot['Neighborhood'] = sl_venues['Neighborhood'] \n",
    "\n",
    "# move neighborhood column to the first column\n",
    "fixed_columns = [sl_onehot.columns[-1]] + list(sl_onehot.columns[:-1])\n",
    "sl_onehot = sl_onehot[fixed_columns]\n",
    "\n",
    "sl_onehot.head()"
   ]
  },
  {
   "cell_type": "code",
   "execution_count": null,
   "metadata": {},
   "outputs": [],
   "source": [
    "sl_grouped = sl_onehot.groupby('Neighborhood').mean().reset_index()\n",
    "sl_grouped\n",
    "\n",
    "num_top_venues = 5\n",
    "\n",
    "for hood in sl_grouped['Neighborhood']:\n",
    "    print(\"----\"+hood+\"----\")\n",
    "    temp = sl_grouped[sl_grouped['Neighborhood'] == hood].T.reset_index()\n",
    "    temp.columns = ['venue','freq']\n",
    "    temp = temp.iloc[1:]\n",
    "    temp['freq'] = temp['freq'].astype(float)\n",
    "    temp = temp.round({'freq': 2})\n",
    "    print(temp.sort_values('freq', ascending=False).reset_index(drop=True).head(num_top_venues))\n",
    "    print('\\n')"
   ]
  },
  {
   "cell_type": "code",
   "execution_count": null,
   "metadata": {},
   "outputs": [],
   "source": [
    "def return_most_common_venues(row, num_top_venues):\n",
    "    row_categories = row.iloc[1:]\n",
    "    row_categories_sorted = row_categories.sort_values(ascending=False)\n",
    "    \n",
    "    return row_categories_sorted.index.values[0:num_top_venues]"
   ]
  },
  {
   "cell_type": "code",
   "execution_count": null,
   "metadata": {
    "scrolled": true
   },
   "outputs": [],
   "source": [
    "num_top_venues = 10\n",
    "\n",
    "indicators = ['st', 'nd', 'rd']\n",
    "\n",
    "# create columns according to number of top venues\n",
    "columns = ['Neighborhood']\n",
    "for ind in np.arange(num_top_venues):\n",
    "    try:\n",
    "        columns.append('{}{} Most Common Venue'.format(ind+1, indicators[ind]))\n",
    "    except:\n",
    "        columns.append('{}th Most Common Venue'.format(ind+1))\n",
    "\n",
    "# create a new dataframe\n",
    "neighborhoods_venues_sorted = pd.DataFrame(columns=columns)\n",
    "neighborhoods_venues_sorted['Neighborhood'] = sl_grouped['Neighborhood']\n",
    "\n",
    "for ind in np.arange(sl_grouped.shape[0]):\n",
    "    neighborhoods_venues_sorted.iloc[ind, 1:] = return_most_common_venues(sl_grouped.iloc[ind, :], num_top_venues)\n",
    "\n",
    "neighborhoods_venues_sorted.shape()"
   ]
  },
  {
   "cell_type": "markdown",
   "metadata": {},
   "source": [
    "## 4. Cluster Neighborhoods"
   ]
  },
  {
   "cell_type": "code",
   "execution_count": null,
   "metadata": {},
   "outputs": [],
   "source": [
    "# set number of clusters\n",
    "kclusters = 5\n",
    "\n",
    "sl_grouped_clustering = sl_grouped.drop('Neighborhood', 1)\n",
    "\n",
    "# run k-means clustering\n",
    "kmeans = KMeans(n_clusters=kclusters, random_state=0).fit(sl_grouped_clustering)\n",
    "\n",
    "# check cluster labels generated for each row in the dataframe\n",
    "kmeans.labels_[0:10] "
   ]
  },
  {
   "cell_type": "code",
   "execution_count": null,
   "metadata": {
    "scrolled": true
   },
   "outputs": [],
   "source": [
    "# add clustering labels\n",
    "neighborhoods_venues_sorted.insert(0, 'Cluster Labels', kmeans.labels_)\n",
    "\n",
    "sl_merged = sl_data\n",
    "\n",
    "# merge toronto_grouped with toronto_data to add latitude/longitude for each neighborhood\n",
    "sl_merged = sl_merged.join(neighborhoods_venues_sorted.set_index('Neighborhood'), on='Neighborhood')\n",
    "\n",
    "sl_merged.head() # check the last columns!"
   ]
  },
  {
   "cell_type": "code",
   "execution_count": null,
   "metadata": {},
   "outputs": [],
   "source": [
    "# create map\n",
    "map_clusters = folium.Map(location=[latitude, longitude], zoom_start=11)\n",
    "\n",
    "# set color scheme for the clusters\n",
    "x = np.arange(kclusters)\n",
    "ys = [i + x + (i*x)**2 for i in range(kclusters)]\n",
    "colors_array = cm.rainbow(np.linspace(0, 1, len(ys)))\n",
    "rainbow = [colors.rgb2hex(i) for i in colors_array]\n",
    "\n",
    "# add markers to the map\n",
    "markers_colors = []\n",
    "for lat, lon, poi, cluster in zip(sl_merged['Latitude'], sl_merged['Longitude'], sl_merged['Neighborhood'], sl_merged['Cluster Labels']):\n",
    "    label = folium.Popup(str(poi) + ' Cluster ' + str(cluster), parse_html=True)\n",
    "    folium.CircleMarker(\n",
    "        [lat, lon],\n",
    "        radius=5,\n",
    "        popup=label,\n",
    "        color=rainbow[cluster-1],\n",
    "        fill=True,\n",
    "        fill_color=rainbow[cluster-1],\n",
    "        fill_opacity=0.7).add_to(map_clusters)\n",
    "       \n",
    "map_clusters"
   ]
  },
  {
   "cell_type": "markdown",
   "metadata": {},
   "source": [
    "## 5. Examine Clusters"
   ]
  },
  {
   "cell_type": "code",
   "execution_count": null,
   "metadata": {
    "scrolled": true
   },
   "outputs": [],
   "source": [
    "#### Cluster 1\n",
    "sl_merged.loc[sl_merged['Cluster Labels'] \n",
    "                     == 0, sl_merged.columns[[1] + list(range(5, sl_merged.shape[1]))]]"
   ]
  },
  {
   "cell_type": "code",
   "execution_count": null,
   "metadata": {},
   "outputs": [],
   "source": [
    "#### Cluster 2\n",
    "sl_merged.loc[sln_merged['Cluster Labels'] \n",
    "                     == 1, sl_merged.columns[[1] + list(range(5, sl_merged.shape[1]))]]"
   ]
  },
  {
   "cell_type": "code",
   "execution_count": null,
   "metadata": {
    "scrolled": true
   },
   "outputs": [],
   "source": [
    "#### Cluster 3\n",
    "manhattan_merged.loc[manhattan_merged['Cluster Labels'] \n",
    "                     == 2, manhattan_merged.columns[[1] + list(range(5, manhattan_merged.shape[1]))]]"
   ]
  },
  {
   "cell_type": "code",
   "execution_count": null,
   "metadata": {},
   "outputs": [],
   "source": [
    "#### Cluster 4\n",
    "sl_merged.loc[sl_merged['Cluster Labels'] \n",
    "                     == 3, sl_merged.columns[[1] + list(range(5, sl_merged.shape[1]))]]"
   ]
  },
  {
   "cell_type": "code",
   "execution_count": null,
   "metadata": {
    "scrolled": true
   },
   "outputs": [],
   "source": [
    "#### Cluster 5\n",
    "sl_merged.loc[sl_merged['Cluster Labels'] \n",
    "                     == 4, sl_merged.columns[[1] + list(range(5, sl_merged.shape[1]))]]\n"
   ]
  },
  {
   "cell_type": "markdown",
   "metadata": {},
   "source": [
    "#Part 2 New York Crime Data Visualization"
   ]
  },
  {
   "cell_type": "code",
   "execution_count": null,
   "metadata": {},
   "outputs": [],
   "source": [
    "case=pd.read_csv('NYPD.csv')\n",
    "case.head()\n",
    "case=case.rename(columns={'CMPLNT_FR_DT':\"Date\",'OFNS_DESC':\"Type\",'CRM_ATPT_CPTD_CD':\"Degree\",\n",
    "                          'LAW_CAT_CD':\"Category\",'BORO_NM':\"Borough\"})\n",
    "#borough count \n",
    "case_count1=case.groupby([\"Borough\"]).size().reset_index(name=\"Counts\")\n",
    "case_count1\n"
   ]
  },
  {
   "cell_type": "code",
   "execution_count": null,
   "metadata": {},
   "outputs": [],
   "source": [
    "#category/type count\n",
    "case_count2=case.groupby([\"Type\",\"Borough\"]).size().reset_index(name=\"Counts\")\n",
    "case_count21=case_count2[case_count2[\"Borough\"]==\"BRONX\"].reset_index(drop=True)\n",
    "case_count21=case_count21.sort_values(by=\"Counts\",ascending=False)\n",
    "case_count21.head()"
   ]
  },
  {
   "cell_type": "code",
   "execution_count": null,
   "metadata": {},
   "outputs": [],
   "source": [
    "case_count22=case_count2[case_count2[\"Borough\"]==\"BROOKLYN\"].reset_index(drop=True)\n",
    "case_count22=case_count22.sort_values(by=\"Counts\",ascending=False)\n",
    "case_count22.head()"
   ]
  },
  {
   "cell_type": "code",
   "execution_count": null,
   "metadata": {},
   "outputs": [],
   "source": [
    "case_count23=case_count2[case_count2[\"Borough\"]==\"MANHATTAN\"].reset_index(drop=True)\n",
    "case_count23=case_count23.sort_values(by=\"Counts\",ascending=False)\n",
    "case_count23.head()"
   ]
  },
  {
   "cell_type": "code",
   "execution_count": null,
   "metadata": {},
   "outputs": [],
   "source": [
    "case_count24=case_count2[case_count2[\"Borough\"]==\"QUEENS\"].reset_index(drop=True)\n",
    "case_count24=case_count24.sort_values(by=\"Counts\",ascending=False)\n",
    "case_count24.head()"
   ]
  },
  {
   "cell_type": "code",
   "execution_count": null,
   "metadata": {},
   "outputs": [],
   "source": [
    "case_count25=case_count2[case_count2[\"Borough\"]==\"STATEN ISLAND\"].reset_index(drop=True)\n",
    "case_count25=case_count25.sort_values(by=\"Counts\",ascending=False)\n",
    "case_count25.head()"
   ]
  },
  {
   "cell_type": "code",
   "execution_count": null,
   "metadata": {},
   "outputs": [],
   "source": [
    "case_count3=case.groupby([\"Category\"]).size().reset_index(name=\"Counts\")\n",
    "case_count3"
   ]
  },
  {
   "cell_type": "code",
   "execution_count": null,
   "metadata": {},
   "outputs": [],
   "source": [
    "case_new=case\n",
    "case_new=case_new.rename(columns={'CMPLNT_FR_DT':\"Date\",'OFNS_DESC':\"Type\",'CRM_ATPT_CPTD_CD':\"Degree\",\n",
    "                          'LAW_CAT_CD':\"Category\",'BORO_NM':\"Borough\"})\n",
    "case_new=case_new.drop(columns=[\"Date\",\"Type\",\"Degree\",\"Latitude\",\"Longitude\"])\n",
    "case2=case_new.groupby([\"Borough\",\"Category\"]).size().reset_index()\n",
    "case2\n",
    "borough = [\"BRONX\",\"BROOKLYN\",\"MANHATTAN\",\"QUEENS\",\"STATEN ISLAND\"]\n",
    "category=[\"FELONY\",\"MISDEMEANOR\",\"VIOLATION\"]\n",
    "case2_new=pd.DataFrame({\"Borough\":borough,\"FELONY\":[5826,9041,7140,6196,926],\n",
    "                      \"MISDEMEANOR\":[10879,13439,11223,8943,2370],\n",
    "                       \"VIOLATION\":[2562,3669,2392,2301,799]})\n",
    "case2_new.set_index('Borough')"
   ]
  },
  {
   "cell_type": "code",
   "execution_count": null,
   "metadata": {},
   "outputs": [],
   "source": [
    "#table \n",
    "import matplotlib.pyplot as plt\n",
    "import matplotlib.patches as patches\n",
    "width = 0.8\n",
    "fig, ax = plt.subplots()\n",
    "x = borough\n",
    "ind = np.arange(0,15,3)\n",
    "plt.plot(kind='bar',figsize=(20,8))\n",
    "fig.set_figheight(8)\n",
    "fig.set_figwidth(20)\n",
    "p1=plt.bar(ind-width, case2_new['FELONY'], width, label='felony',color='#5cb85c')\n",
    "p2=plt.bar(ind, case2_new['MISDEMEANOR'], width, label='misdemeanor',color='#5bc0de')\n",
    "p3=plt.bar(ind+width, case2_new['VIOLATION'], width, label='violation',color='#d9534f')\n",
    "plt.title(\"Number of Crime in Borough\",fontsize=16)\n",
    "ax.set_xticks(ind)\n",
    "ax.set_xticklabels(x,rotation = 90,fontsize=14)\n",
    "plt.legend(fontsize=14)\n",
    "plt.gca().spines['right'].set_visible(False)\n",
    "plt.gca().spines['top'].set_visible(False)\n",
    "ax.legend()\n",
    "for p in ax.patches:\n",
    "    width, height = p.get_width(), p.get_height()\n",
    "    height = height\n",
    "    x, y = p.get_xy()\n",
    "    ax.annotate( (height),(p.get_x()+0.15*width, p.get_y() + height + 50))\n",
    "ax.legend()"
   ]
  },
  {
   "cell_type": "code",
   "execution_count": null,
   "metadata": {},
   "outputs": [],
   "source": [
    "#crime weighted count sum of three\n",
    "case2_new['Sum']=case2_new['FELONY']*0.5+case2_new['MISDEMEANOR']*0.2+case2_new['VIOLATION']*0.3\n",
    "case2_new=case2_new.sort_values(by=\"Sum\",ascending=True)\n",
    "case2_new\n",
    "#choose STATEN ISLAND and QUEENS"
   ]
  },
  {
   "cell_type": "code",
   "execution_count": null,
   "metadata": {},
   "outputs": [],
   "source": [
    "with open('newyork_data.json') as json_data:\n",
    "    newyork_data = json.load(json_data)\n",
    "NY_geo = newyork_data\n",
    "NY_map = folium.Map(location=[40.7127281, -74.0060152], zoom_start=12)\n",
    "NY_map.choropleth(\n",
    "    geo_data=NY_geo,\n",
    "    data=case2_new,\n",
    "    columns=['Borough', 'Sum'],\n",
    "    key_on='feature.borough',\n",
    "    fill_color='YlOrRd',\n",
    "    fill_opacity=0.7,\n",
    "    line_opacity=0.2,\n",
    "    legend_name='Crime Rate in Ney York City'\n",
    ")\n",
    "# display map\n",
    "NY_map "
   ]
  },
  {
   "cell_type": "code",
   "execution_count": null,
   "metadata": {},
   "outputs": [],
   "source": []
  }
 ],
 "metadata": {
  "kernelspec": {
   "display_name": "Python 3.6",
   "language": "python",
   "name": "python3"
  },
  "language_info": {
   "codemirror_mode": {
    "name": "ipython",
    "version": 3
   },
   "file_extension": ".py",
   "mimetype": "text/x-python",
   "name": "python",
   "nbconvert_exporter": "python",
   "pygments_lexer": "ipython3",
   "version": "3.6.9"
  }
 },
 "nbformat": 4,
 "nbformat_minor": 1
}
